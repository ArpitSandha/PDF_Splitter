{
  "nbformat": 4,
  "nbformat_minor": 0,
  "metadata": {
    "colab": {
      "provenance": [],
      "include_colab_link": true
    },
    "kernelspec": {
      "name": "python3",
      "display_name": "Python 3"
    },
    "language_info": {
      "name": "python"
    }
  },
  "cells": [
    {
      "cell_type": "markdown",
      "metadata": {
        "id": "view-in-github",
        "colab_type": "text"
      },
      "source": [
        "<a href=\"https://colab.research.google.com/github/ArpitSandha/PDF_Splitter/blob/main/PDF_Splitter.ipynb\" target=\"_parent\"><img src=\"https://colab.research.google.com/assets/colab-badge.svg\" alt=\"Open In Colab\"/></a>"
      ]
    },
    {
      "cell_type": "code",
      "execution_count": 11,
      "metadata": {
        "colab": {
          "base_uri": "https://localhost:8080/"
        },
        "id": "gtpWXzgUTf87",
        "outputId": "96cca43c-8750-4bb5-8065-9cd02da42231"
      },
      "outputs": [
        {
          "output_type": "stream",
          "name": "stdout",
          "text": [
            "Requirement already satisfied: PyPDF2 in /usr/local/lib/python3.10/dist-packages (3.0.1)\n"
          ]
        }
      ],
      "source": [
        "!pip install PyPDF2"
      ]
    },
    {
      "cell_type": "code",
      "source": [
        "import os\n",
        "from PyPDF2 import PdfReader, PdfWriter\n",
        "\n",
        "def split_pdf(input_pdf, output_dir, split_page):\n",
        "    if not os.path.exists(output_dir):\n",
        "        os.makedirs(output_dir)\n",
        "\n",
        "    pdf = PdfReader(open(input_pdf, \"rb\"))\n",
        "    total_pages = len(pdf.pages)\n",
        "\n",
        "    if split_page < 1 or split_page >= total_pages:\n",
        "        raise ValueError(\"Split page number must be between 1 and the total number of pages minus one.\")\n",
        "\n",
        "    part1_writer = PdfWriter()\n",
        "    part2_writer = PdfWriter()\n",
        "\n",
        "    for page_num in range(total_pages):\n",
        "        if page_num < split_page:\n",
        "            part1_writer.add_page(pdf.pages[page_num])\n",
        "        else:\n",
        "            part2_writer.add_page(pdf.pages[page_num])\n",
        "\n",
        "    # Save the two parts\n",
        "    part1_filename = os.path.join(output_dir, 'part1.pdf')\n",
        "    part2_filename = os.path.join(output_dir, 'part2.pdf')\n",
        "\n",
        "    with open(part1_filename, 'wb') as part1_pdf:\n",
        "        part1_writer.write(part1_pdf)\n",
        "\n",
        "    with open(part2_filename, 'wb') as part2_pdf:\n",
        "        part2_writer.write(part2_pdf)\n",
        "\n",
        "    print(f'Created: {part1_filename}')\n",
        "    print(f'Created: {part2_filename}')\n",
        "\n",
        "if __name__ == \"Lec 1\":\n",
        "    input_pdf = '/content/Lec 1.pdf'  # Replace with the path to your input PDF file\n",
        "    output_dir = '/content/ouput'  # Replace with the directory where you want to save the output PDFs\n",
        "    split_page = int(input(\"Enter the page number where you want to split the PDF: \"))\n",
        "    split_pdf(input_pdf, output_dir, split_page)\n"
      ],
      "metadata": {
        "id": "GBkQijI1Tjum"
      },
      "execution_count": 14,
      "outputs": []
    },
    {
      "cell_type": "markdown",
      "source": [
        "H.W: Split every single page of the pdf and save into new pdf."
      ],
      "metadata": {
        "id": "45nZ9C-6WFNq"
      }
    }
  ]
}